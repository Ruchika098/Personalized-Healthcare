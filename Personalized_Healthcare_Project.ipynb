{
  "nbformat": 4,
  "nbformat_minor": 0,
  "metadata": {
    "colab": {
      "provenance": []
    },
    "kernelspec": {
      "name": "python3",
      "display_name": "Python 3"
    },
    "language_info": {
      "name": "python"
    }
  },
  "cells": [
    {
      "cell_type": "code",
      "source": [
        "import numpy as np\n",
        "import pandas as pd\n",
        "import seaborn as sns\n",
        "import matplotlib.pyplot as plt\n",
        "from sklearn.mixture import GaussianMixture\n",
        "from sklearn.preprocessing import StandardScaler\n",
        "\n",
        "# Step 1: Generate Synthetic Dataset\n",
        "np.random.seed(42)\n",
        "data = {\n",
        "    \"Age\": np.random.randint(20, 60, 200),\n",
        "    \"BMI\": np.random.uniform(18, 35, 200),\n",
        "    \"Smoking\": np.random.choice([0, 1], 200),\n",
        "    \"Exercise\": np.random.randint(0, 5, 200),\n",
        "    \"Diabetes\": np.random.choice([0, 1], 200),\n",
        "    \"Hypertension\": np.random.choice([0, 1], 200),\n",
        "    \"Heart Disease\": np.random.choice([0, 1], 200),\n",
        "    \"Doctor Visits\": np.random.randint(1, 10, 200),\n",
        "    \"Medication Usage\": np.random.randint(0, 5, 200)\n",
        "}\n",
        "\n",
        "df = pd.DataFrame(data)\n",
        "\n",
        "# Step 2: Standardize the Data\n",
        "scaler = StandardScaler()\n",
        "df_scaled = pd.DataFrame(scaler.fit_transform(df), columns=df.columns)\n",
        "\n",
        "# Step 3: Apply Gaussian Mixture Model (GMM) Clustering\n",
        "gmm = GaussianMixture(n_components=4, random_state=42)\n",
        "df[\"Cluster\"] = gmm.fit_predict(df_scaled)\n",
        "\n",
        "# Step 4: Sample Data for Visualization\n",
        "df_sampled = df.sample(n=100, random_state=42)\n",
        "df_sampled[\"Cluster\"] = df_sampled[\"Cluster\"].astype(str)\n",
        "\n",
        "# Step 5: Generate Pairplot for Cluster Analysis\n",
        "sns.set(style=\"whitegrid\")\n",
        "pairplot = sns.pairplot(df_sampled, hue=\"Cluster\", palette=\"tab10\", diag_kind=\"hist\")\n",
        "plt.suptitle(\"Cluster Analysis using Gaussian Mixture Model\", y=1.02)\n",
        "plt.tight_layout()\n",
        "\n",
        "# Step 6: Save the Visualization\n",
        "pairplot.savefig(\"gmm_clusters_final.png\")\n",
        "plt.close()\n",
        "\n",
        "# Output Dataset and Image Path\n",
        "df.to_csv(\"personalized_healthcare_dataset.csv\", index=False)\n",
        "print(\"Dataset and visualization successfully generated.\")\n"
      ],
      "metadata": {
        "colab": {
          "base_uri": "https://localhost:8080/"
        },
        "id": "SoWFbeZL6Dne",
        "outputId": "502dd224-a4a6-4ddd-c23e-648dd84b8e0b"
      },
      "execution_count": 1,
      "outputs": [
        {
          "output_type": "stream",
          "name": "stdout",
          "text": [
            "Dataset and visualization successfully generated.\n"
          ]
        }
      ]
    },
    {
      "cell_type": "code",
      "execution_count": null,
      "metadata": {
        "id": "IQArg3Df6Axo"
      },
      "outputs": [],
      "source": []
    }
  ]
}